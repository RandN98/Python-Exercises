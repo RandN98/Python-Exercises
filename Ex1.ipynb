Escreva um programa que recebe um número inteiro e testa e imprime se ele é par ou impar

num = int(input("Digite um número: "))
check = num % 2
if check == 0:
  print(f"{num} é par.")
else:
  print(f"{num} é ímpar.")
